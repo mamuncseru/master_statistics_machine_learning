{
  "nbformat": 4,
  "nbformat_minor": 0,
  "metadata": {
    "colab": {
      "name": "stats_visualizing_linePlots.ipynb",
      "provenance": [],
      "authorship_tag": "ABX9TyOGeWp+jxhWMdY1WDfob1z6",
      "include_colab_link": true
    },
    "kernelspec": {
      "name": "python3",
      "display_name": "Python 3"
    },
    "language_info": {
      "name": "python"
    }
  },
  "cells": [
    {
      "cell_type": "markdown",
      "metadata": {
        "id": "view-in-github",
        "colab_type": "text"
      },
      "source": [
        "<a href=\"https://colab.research.google.com/github/mamuncseru/master_statistics_machine_learning/blob/main/stats_visualizing_linePlots.ipynb\" target=\"_parent\"><img src=\"https://colab.research.google.com/assets/colab-badge.svg\" alt=\"Open In Colab\"/></a>"
      ]
    },
    {
      "cell_type": "code",
      "execution_count": 1,
      "metadata": {
        "id": "H3y_c-UtOgvh"
      },
      "outputs": [],
      "source": [
        "#import libraries\n",
        "import matplotlib.pyplot as plt\n",
        "import numpy as np\n"
      ]
    },
    {
      "cell_type": "code",
      "source": [
        "## create data for the plot\n",
        "\n",
        "# number of data points\n",
        "n = 1000\n",
        "\n",
        "# generate log-normal distribution\n",
        "data1 = np.exp(np.random.randn(n) / 2)\n",
        "data2 = np.exp(np.random.randn(n) / 10)\n",
        "data3 = np.exp(np.random.randn(n)/2 + 1)"
      ],
      "metadata": {
        "id": "NVmFk06wQJ5R"
      },
      "execution_count": 2,
      "outputs": []
    },
    {
      "cell_type": "code",
      "source": [
        "## plot of their histograms\n",
        "\n",
        "# number of histogram bins\n",
        "k = 20\n",
        "\n",
        "plt.hist(data1, bins=k)\n",
        "plt.hist(data2, bins=k)\n",
        "plt.hist(data3, bins=k)\n",
        "\n",
        "plt.show()"
      ],
      "metadata": {
        "colab": {
          "base_uri": "https://localhost:8080/",
          "height": 267
        },
        "id": "NDwTG37JQZ20",
        "outputId": "2a2055b7-decf-43f4-8a22-a0949fe45d6c"
      },
      "execution_count": 3,
      "outputs": [
        {
          "output_type": "display_data",
          "data": {
            "text/plain": [
              "<Figure size 432x288 with 1 Axes>"
            ],
            "image/png": "[encoded data removed]"
          },
          "metadata": {
            "needs_background": "light"
          }
        }
      ]
    },
    {
      "cell_type": "code",
      "source": [
        "# histogram discretization for the datasets\n",
        "y1, x1 = np.histogram(data1, bins=k)\n",
        "xx1 = (x1[0:-1] + x1[1:]) / 2\n",
        "y1 = 100*y1 / sum(y1) # convert the probability\n",
        "\n",
        "y2, x2 = np.histogram(data2, bins=k)\n",
        "xx2 = (x2[0:-1] + x2[1:]) / 2\n",
        "y2 = 100*y2 / sum(y2) # convert the probability\n",
        "\n",
        "y3, x3 = np.histogram(data3, bins=k)\n",
        "xx3 = (x3[0:-1] + x3[1:]) / 2\n",
        "y3 = 100*y3 / sum(y3) # convert to probability\n",
        "\n",
        "# show the plots\n",
        "plt.plot(xx1, y1, 's-', label='data1')\n",
        "plt.plot(xx2, y2, 'o-', label='data2')\n",
        "plt.plot(xx3, y3, '^-', label='data3')\n",
        "\n",
        "plt.legend()\n",
        "plt.xlabel('Value')\n",
        "plt.ylabel('Probability')\n",
        "plt.show()"
      ],
      "metadata": {
        "colab": {
          "base_uri": "https://localhost:8080/",
          "height": 281
        },
        "id": "HurJXuuwQmWO",
        "outputId": "58d340a4-d9cf-4d6e-dc3c-391baff966eb"
      },
      "execution_count": 7,
      "outputs": [
        {
          "output_type": "display_data",
          "data": {
            "text/plain": [
              "<Figure size 432x288 with 1 Axes>"
            ],
            "image/png": "[encoded data removed]"
          },
          "metadata": {
            "needs_background": "light"
          }
        }
      ]
    },
    {
      "cell_type": "code",
      "source": [
        ""
      ],
      "metadata": {
        "id": "QQ8OkH9vR4jY"
      },
      "execution_count": null,
      "outputs": []
    }
  ]
}
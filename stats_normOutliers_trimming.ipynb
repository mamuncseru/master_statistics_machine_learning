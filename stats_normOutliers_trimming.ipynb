{
  "nbformat": 4,
  "nbformat_minor": 0,
  "metadata": {
    "colab": {
      "name": "stats_normOutliers_trimming.ipynb",
      "provenance": [],
      "authorship_tag": "ABX9TyOlLSyUfXwxkYN/obl2u2o1",
      "include_colab_link": true
    },
    "kernelspec": {
      "name": "python3",
      "display_name": "Python 3"
    },
    "language_info": {
      "name": "python"
    }
  },
  "cells": [
    {
      "cell_type": "markdown",
      "metadata": {
        "id": "view-in-github",
        "colab_type": "text"
      },
      "source": [
        "<a href=\"https://colab.research.google.com/github/mamuncseru/master_statistics_machine_learning/blob/main/stats_normOutliers_trimming.ipynb\" target=\"_parent\"><img src=\"https://colab.research.google.com/assets/colab-badge.svg\" alt=\"Open In Colab\"/></a>"
      ]
    },
    {
      "cell_type": "code",
      "execution_count": 1,
      "metadata": {
        "id": "jQKFo2t_MC0r"
      },
      "outputs": [],
      "source": [
        "# import libraries\n",
        "import numpy as np\n",
        "import matplotlib.pyplot as plt"
      ]
    },
    {
      "cell_type": "code",
      "source": [
        "## create some data\n",
        "\n",
        "N = 40\n",
        "data = np.random.randn(N, 1)\n",
        "data[data < -2] = -data[data<-2] ** 2\n",
        "data[data>2] = data[data>2]**2\n",
        "\n",
        "# also need the mean-centric data\n",
        "dataMC = data - np.mean(data)\n",
        "\n",
        "# and plot the mean-centered data\n",
        "fig, ax = plt.subplots(1, 1)\n",
        "ax.plot(data, 'k^', markerfacecolor='y', markersize=12)\n",
        "ax.set_xticks([])\n",
        "ax.set_yticks([])\n",
        "ax.set_xlabel('Data index')\n",
        "ax.set_ylabel('Data value')\n",
        "plt.show()"
      ],
      "metadata": {
        "colab": {
          "base_uri": "https://localhost:8080/",
          "height": 262
        },
        "id": "b9X3GxKoMPJN",
        "outputId": "9ac8c74d-9721-4cc6-837a-ba8bcc809c70"
      },
      "execution_count": 5,
      "outputs": [
        {
          "output_type": "display_data",
          "data": {
            "text/plain": [
              "<Figure size 432x288 with 1 Axes>"
            ],
            "image/png": "[encoded data removed]"
          },
          "metadata": {}
        }
      ]
    },
    {
      "cell_type": "code",
      "source": [
        "## option 1: remove k% of the data\n",
        "\n",
        "# percent of \"extreme\" data values to remove\n",
        "trimPct = 5 # in percent\n",
        "\n",
        "# identify the cut-off (not the bas())\n",
        "datacutoff = np.percentile(abs(dataMC), 100 - trimPct)\n",
        "\n",
        "# find the exceedance data values\n",
        "data2cut = np.where(abs(dataMC) > datacutoff)[0]\n",
        "\n",
        "# and mark those off\n",
        "ax.plot(data2cut, data[data2cut], 'rx', markersize=15)\n",
        "\n",
        "fig"
      ],
      "metadata": {
        "colab": {
          "base_uri": "https://localhost:8080/",
          "height": 262
        },
        "id": "EkcVQtNnM3Bf",
        "outputId": "b88ba69c-8656-4ded-a98a-ec53092064f8"
      },
      "execution_count": 6,
      "outputs": [
        {
          "output_type": "execute_result",
          "data": {
            "text/plain": [
              "<Figure size 432x288 with 1 Axes>"
            ],
            "image/png": "[encoded data removed]"
          },
          "metadata": {},
          "execution_count": 6
        }
      ]
    },
    {
      "cell_type": "code",
      "source": [
        "## option 2: remove k most extreme values\n",
        "\n",
        "# number of \"extreme\" data values to remove\n",
        "k2remove = 3 # in number\n",
        "\n",
        "# find the exceedance data values\n",
        "datasortIdx = np.argsort(abs(dataMC), axis=0)[::-1]\n",
        "data2cut = np.squeeze(datasortIdx[:k2remove])\n",
        "\n",
        "# and mark those off\n",
        "ax.plot(data2cut, data[data2cut], 'go', markersize=15, alpha=.5)\n",
        "\n",
        "# finally, add a legend\n",
        "ax.legend(('All data', '%g%% threshold'%(100-trimPct), '%g-value threshold'%k2remove))\n",
        "fig"
      ],
      "metadata": {
        "colab": {
          "base_uri": "https://localhost:8080/",
          "height": 262
        },
        "id": "wikv8OUlN0ue",
        "outputId": "45ce301d-373c-4e8c-c5f5-71010cd6b1fb"
      },
      "execution_count": 8,
      "outputs": [
        {
          "output_type": "execute_result",
          "data": {
            "text/plain": [
              "<Figure size 432x288 with 1 Axes>"
            ],
            "image/png": "[encoded data removed]"
          },
          "metadata": {},
          "execution_count": 8
        }
      ]
    },
    {
      "cell_type": "code",
      "source": [
        ""
      ],
      "metadata": {
        "id": "_ChIoOwYO2S-"
      },
      "execution_count": null,
      "outputs": []
    }
  ]
}
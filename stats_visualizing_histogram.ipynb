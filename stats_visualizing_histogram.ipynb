{
  "nbformat": 4,
  "nbformat_minor": 0,
  "metadata": {
    "colab": {
      "name": "stats_visualizing_histogram.ipynb",
      "provenance": [],
      "authorship_tag": "ABX9TyPNAb4o8HUdpZDQkO9L+1dy",
      "include_colab_link": true
    },
    "kernelspec": {
      "name": "python3",
      "display_name": "Python 3"
    },
    "language_info": {
      "name": "python"
    }
  },
  "cells": [
    {
      "cell_type": "markdown",
      "metadata": {
        "id": "view-in-github",
        "colab_type": "text"
      },
      "source": [
        "<a href=\"https://colab.research.google.com/github/mamuncseru/master_statistics_machine_learning/blob/main/stats_visualizing_histogram.ipynb\" target=\"_parent\"><img src=\"https://colab.research.google.com/assets/colab-badge.svg\" alt=\"Open In Colab\"/></a>"
      ]
    },
    {
      "cell_type": "code",
      "execution_count": 1,
      "metadata": {
        "id": "VJNP2KCKCn0z"
      },
      "outputs": [],
      "source": [
        "import matplotlib.pyplot as plt\n",
        "import numpy as np"
      ]
    },
    {
      "cell_type": "code",
      "source": [
        "## create data for the histogram\n",
        "\n",
        "# number of data points\n",
        "n = 1000\n",
        "\n",
        "# generate data - Log = normal distribution\n",
        "data = np.exp(np.random.randn(n) / 2)\n",
        "plt.plot(data, 's')"
      ],
      "metadata": {
        "colab": {
          "base_uri": "https://localhost:8080/",
          "height": 282
        },
        "id": "iAlMTBrfDMop",
        "outputId": "deda1976-d953-474d-b0ed-64a8bfabe0e8"
      },
      "execution_count": 6,
      "outputs": [
        {
          "output_type": "execute_result",
          "data": {
            "text/plain": [
              "[<matplotlib.lines.Line2D at 0x7f61ea569c10>]"
            ]
          },
          "metadata": {},
          "execution_count": 6
        },
        {
          "output_type": "display_data",
          "data": {
            "text/plain": [
              "<Figure size 432x288 with 1 Axes>"
            ],
            "image/png": "[encoded data removed]"
          },
          "metadata": {
            "needs_background": "light"
          }
        }
      ]
    },
    {
      "cell_type": "code",
      "source": [
        "# show as a histogram\n",
        "\n",
        "# number of histogram bins\n",
        "k = 30\n",
        "\n",
        "plt.hist(data, bins=k, density=True)\n",
        "plt.show()"
      ],
      "metadata": {
        "colab": {
          "base_uri": "https://localhost:8080/",
          "height": 265
        },
        "id": "z6y_tiobDXr-",
        "outputId": "97e0891d-c7b3-4dd8-a67a-47e6104b35c5"
      },
      "execution_count": 11,
      "outputs": [
        {
          "output_type": "display_data",
          "data": {
            "text/plain": [
              "<Figure size 432x288 with 1 Axes>"
            ],
            "image/png": "[encoded data removed]"
          },
          "metadata": {
            "needs_background": "light"
          }
        }
      ]
    },
    {
      "cell_type": "code",
      "source": [
        "# another option\n",
        "y, x = np.histogram(data, bins=k, density=True)\n",
        "\n",
        "# bin centers\n",
        "xx = (x[1:] + x[:-1]) / 2\n",
        "# y = y * 100 / sum(y)\n",
        "\n",
        "plt.plot(xx, y)\n",
        "plt.show()"
      ],
      "metadata": {
        "colab": {
          "base_uri": "https://localhost:8080/",
          "height": 265
        },
        "id": "R7ojGyVGDg-v",
        "outputId": "f0ceeac9-4b4b-4689-d007-885a9cf68a3f"
      },
      "execution_count": 16,
      "outputs": [
        {
          "output_type": "display_data",
          "data": {
            "text/plain": [
              "<Figure size 432x288 with 1 Axes>"
            ],
            "image/png": "[encoded data removed]"
          },
          "metadata": {
            "needs_background": "light"
          }
        }
      ]
    },
    {
      "cell_type": "code",
      "source": [
        "y"
      ],
      "metadata": {
        "colab": {
          "base_uri": "https://localhost:8080/"
        },
        "id": "25YdcD-JDrSJ",
        "outputId": "28c979cc-157a-4c53-d76b-c22a4a931f09"
      },
      "execution_count": 15,
      "outputs": [
        {
          "output_type": "execute_result",
          "data": {
            "text/plain": [
              "array([ 14, 101, 166, 194, 165, 126,  81,  54,  33,  19,  13,  11,   9,\n",
              "         5,   2,   4,   1,   1,   0,   0,   0,   0,   0,   0,   0,   0,\n",
              "         0,   0,   0,   1])"
            ]
          },
          "metadata": {},
          "execution_count": 15
        }
      ]
    },
    {
      "cell_type": "code",
      "source": [
        ""
      ],
      "metadata": {
        "id": "T_7wTBjmGjRG"
      },
      "execution_count": null,
      "outputs": []
    }
  ]
}
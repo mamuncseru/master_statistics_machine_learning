{
  "nbformat": 4,
  "nbformat_minor": 0,
  "metadata": {
    "colab": {
      "name": "stats_intro_GuessTheTest.ipynb",
      "provenance": [],
      "authorship_tag": "ABX9TyOPuHL/1UzkVfJK/30oAmOy",
      "include_colab_link": true
    },
    "kernelspec": {
      "name": "python3",
      "display_name": "Python 3"
    },
    "language_info": {
      "name": "python"
    }
  },
  "cells": [
    {
      "cell_type": "markdown",
      "metadata": {
        "id": "view-in-github",
        "colab_type": "text"
      },
      "source": [
        "<a href=\"https://colab.research.google.com/github/mamuncseru/master_statistics_machine_learning/blob/main/stats_intro_GuessTheTest.ipynb\" target=\"_parent\"><img src=\"https://colab.research.google.com/assets/colab-badge.svg\" alt=\"Open In Colab\"/></a>"
      ]
    },
    {
      "cell_type": "markdown",
      "source": [
        "# SECTION: Introduction"
      ],
      "metadata": {
        "id": "naMp3zSoBQNQ"
      }
    },
    {
      "cell_type": "code",
      "source": [
        "# import libraries\n",
        "import matplotlib.pyplot as plt\n",
        "import numpy as np\n",
        "import scipy.stats as stats"
      ],
      "metadata": {
        "id": "OZaMNGuwBZCa"
      },
      "execution_count": 1,
      "outputs": []
    },
    {
      "cell_type": "code",
      "source": [
        "## this section is for parameters that you can specify\n",
        "\n",
        "# specify the averages of the two groups\n",
        "average_group1 = 43\n",
        "average_group2 = 45\n",
        "\n",
        "# the amount of individual variability (some value for both groups)\n",
        "standard_deviation = 1.6\n",
        "\n",
        "# sample size for each group\n",
        "samples_group1 = 40\n",
        "samples_group2 = 35\n"
      ],
      "metadata": {
        "id": "d1Z6gdvwBmJx"
      },
      "execution_count": 2,
      "outputs": []
    },
    {
      "cell_type": "code",
      "source": [
        "# this section generates the data\n",
        "\n",
        "# generate the data\n",
        "data_group1 = np.random.randn(samples_group1)*standard_deviation + average_group1\n",
        "data_group2 = np.random.randn(samples_group2)*standard_deviation + average_group2\n",
        "\n",
        "# convenient collection of sample sizes\n",
        "ns = [ samples_group1, samples_group2]\n",
        "\n",
        "datalims = [np.min(np.hstack((data_group1, data_group2))), np.max(np.hstack((data_group1, data_group2)))]"
      ],
      "metadata": {
        "id": "eUc_pCSMCLDP"
      },
      "execution_count": 3,
      "outputs": []
    },
    {
      "cell_type": "code",
      "source": [
        "## this section is for data visualization (don't need to modify)\n",
        "\n",
        "fig, ax = plt.subplots(1, 2, figsize = (6, 4))\n",
        "\n",
        "ax[0].violinplot(data_group1)\n",
        "ax[0].plot(1 + np.random.randn(samples_group1)/10, data_group1, 'ko')\n",
        "ax[0].set_ylim(datalims)\n",
        "ax[0].axis('off')\n",
        "\n",
        "ax[1].violinplot(data_group2)\n",
        "ax[1].plot(1 + np.random.randn(samples_group2)/10, data_group2, 'ko')\n",
        "ax[1].set_ylim(datalims)\n",
        "ax[1].axis('off')\n",
        "\n",
        "# 2-group t-test\n",
        "t, p = stats.ttest_ind(data_group1,data_group2)\n",
        "\n",
        "# print the information to the title\n",
        "sigtxt = ('', ' NOT')\n",
        "plt.title('The two groups are %s significantly different! t(%g)=%g, p=%g'%(sigtxt[int(p>.05)],sum(ns)-2,np.round(t,2),np.round(p,3)))\n",
        "\n",
        "plt.show()"
      ],
      "metadata": {
        "colab": {
          "base_uri": "https://localhost:8080/",
          "height": 264
        },
        "id": "6bqYjt6pDA50",
        "outputId": "5191bce3-19cb-4acc-cab3-c90c102e7539"
      },
      "execution_count": 4,
      "outputs": [
        {
          "output_type": "display_data",
          "data": {
            "text/plain": [
              "<Figure size 432x288 with 2 Axes>"
            ],
            "image/png": "[encoded data removed]"
          },
          "metadata": {
            "needs_background": "light"
          }
        }
      ]
    },
    {
      "cell_type": "code",
      "source": [
        ""
      ],
      "metadata": {
        "id": "osvJIhI_DsEG"
      },
      "execution_count": 4,
      "outputs": []
    }
  ]
}
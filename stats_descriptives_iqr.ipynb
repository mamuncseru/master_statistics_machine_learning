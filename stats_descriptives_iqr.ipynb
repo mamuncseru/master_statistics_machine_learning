{
  "nbformat": 4,
  "nbformat_minor": 0,
  "metadata": {
    "colab": {
      "name": "stats_descriptives_iqr.ipynb",
      "provenance": [],
      "authorship_tag": "ABX9TyNXlBtPhoOiWoo4kHSU8psT",
      "include_colab_link": true
    },
    "kernelspec": {
      "name": "python3",
      "display_name": "Python 3"
    },
    "language_info": {
      "name": "python"
    }
  },
  "cells": [
    {
      "cell_type": "markdown",
      "metadata": {
        "id": "view-in-github",
        "colab_type": "text"
      },
      "source": [
        "<a href=\"https://colab.research.google.com/github/mamuncseru/master_statistics_machine_learning/blob/main/stats_descriptives_iqr.ipynb\" target=\"_parent\"><img src=\"https://colab.research.google.com/assets/colab-badge.svg\" alt=\"Open In Colab\"/></a>"
      ]
    },
    {
      "cell_type": "code",
      "execution_count": 1,
      "metadata": {
        "id": "SV3dindl2JEz"
      },
      "outputs": [],
      "source": [
        "#import libraries\n",
        "import matplotlib.pyplot as plt\n",
        "import numpy as np\n",
        "import scipy.stats as stats"
      ]
    },
    {
      "cell_type": "code",
      "source": [
        "## create the data\n",
        "# random number data\n",
        "n = 1000\n",
        "data = np.random.randn(n) ** 2\n",
        "\n",
        "plt.hist(data, bins=30);"
      ],
      "metadata": {
        "colab": {
          "base_uri": "https://localhost:8080/",
          "height": 265
        },
        "id": "ewWJ19_52Zo-",
        "outputId": "3bcd6c85-9cc1-452e-b1f8-6afda8301c47"
      },
      "execution_count": 4,
      "outputs": [
        {
          "output_type": "display_data",
          "data": {
            "text/plain": [
              "<Figure size 432x288 with 1 Axes>"
            ],
            "image/png": "[encoded data removed]"
          },
          "metadata": {
            "needs_background": "light"
          }
        }
      ]
    },
    {
      "cell_type": "code",
      "source": [
        "# rank-transform the data and scale to 1\n",
        "dataR = stats.rankdata(data) / n\n",
        "\n",
        "plt.plot(data, dataR, 's')"
      ],
      "metadata": {
        "colab": {
          "base_uri": "https://localhost:8080/",
          "height": 282
        },
        "id": "ya9cHCVF3_T5",
        "outputId": "7f3f72df-afeb-430d-fbaf-b955bee08463"
      },
      "execution_count": 6,
      "outputs": [
        {
          "output_type": "execute_result",
          "data": {
            "text/plain": [
              "[<matplotlib.lines.Line2D at 0x7fd301767110>]"
            ]
          },
          "metadata": {},
          "execution_count": 6
        },
        {
          "output_type": "display_data",
          "data": {
            "text/plain": [
              "<Figure size 432x288 with 1 Axes>"
            ],
            "image/png": "[encoded data removed]"
          },
          "metadata": {
            "needs_background": "light"
          }
        }
      ]
    },
    {
      "cell_type": "code",
      "source": [
        "\n",
        "\n",
        "# find the values closest to 25% and 75% of the distribution\n",
        "q1 = np.argmin((dataR - .25)**2)\n",
        "q3 = np.argmin((dataR - .75)**2)\n",
        "\n",
        "# get the two values in the data\n",
        "iq_vals = data[[q1, q3]]\n",
        "\n",
        "# IQR is the difference between them\n",
        "iqrange1 = iq_vals[1] - iq_vals[0]\n",
        "\n",
        "# or use python build-in functions ;)\n",
        "iqrange2 = stats.iqr(data)\n",
        "\n",
        "print(iqrange1, iqrange2)\n"
      ],
      "metadata": {
        "colab": {
          "base_uri": "https://localhost:8080/"
        },
        "id": "HpukQQVA2g0x",
        "outputId": "83bda88b-feee-460d-e1bb-8d13d57c086c"
      },
      "execution_count": 7,
      "outputs": [
        {
          "output_type": "stream",
          "name": "stdout",
          "text": [
            "1.2817815646169513 1.281694388275558\n"
          ]
        }
      ]
    },
    {
      "cell_type": "code",
      "source": [
        ""
      ],
      "metadata": {
        "id": "T5l8m_bg4tvQ"
      },
      "execution_count": null,
      "outputs": []
    }
  ]
}
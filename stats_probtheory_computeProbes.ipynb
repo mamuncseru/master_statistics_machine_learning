{
  "nbformat": 4,
  "nbformat_minor": 0,
  "metadata": {
    "colab": {
      "provenance": [],
      "authorship_tag": "ABX9TyMdlY2uzIjm/k0g/a6WTdHZ",
      "include_colab_link": true
    },
    "kernelspec": {
      "name": "python3",
      "display_name": "Python 3"
    },
    "language_info": {
      "name": "python"
    }
  },
  "cells": [
    {
      "cell_type": "markdown",
      "metadata": {
        "id": "view-in-github",
        "colab_type": "text"
      },
      "source": [
        "<a href=\"https://colab.research.google.com/github/mamuncseru/master_statistics_machine_learning/blob/main/stats_probtheory_computeProbes.ipynb\" target=\"_parent\"><img src=\"https://colab.research.google.com/assets/colab-badge.svg\" alt=\"Open In Colab\"/></a>"
      ]
    },
    {
      "cell_type": "code",
      "execution_count": 1,
      "metadata": {
        "id": "UbJqmHAg0G1j"
      },
      "outputs": [],
      "source": [
        "import matplotlib.pyplot as plt\n",
        "import numpy as np\n",
        "from scipy import stats"
      ]
    },
    {
      "cell_type": "code",
      "source": [
        "## the basic formula\n",
        "# counts of the different events\n",
        "c = np.array([1, 2, 4, 3])\n",
        "\n",
        "# convert to probability (%)\n",
        "prob = 100*c / np.sum(c)\n",
        "print(prob)"
      ],
      "metadata": {
        "colab": {
          "base_uri": "https://localhost:8080/"
        },
        "id": "W9eyMviPCS-l",
        "outputId": "ded0f321-fc5e-4f75-ce67-9344fa6c7a22"
      },
      "execution_count": 2,
      "outputs": [
        {
          "output_type": "stream",
          "name": "stdout",
          "text": [
            "[10. 20. 40. 30.]\n"
          ]
        }
      ]
    },
    {
      "cell_type": "code",
      "source": [
        "## the example of drawing marbles from a jar\n",
        "\n",
        " # colored marble count\n",
        "blue = 40\n",
        "yellow = 30\n",
        "orange = 20\n",
        "totalMarbs = blue + yellow + orange\n",
        "\n",
        " # put them all in a jar\n",
        "jar = np.hstack((1*np.ones(blue), 2*np.ones(yellow), 3*np.ones(orange)))\n",
        "\n",
        "# now we draw 500 marbles (with replacement)\n",
        "numDraws = 150\n",
        "drawColors = np.zeros(numDraws)\n",
        "for drawi in range(numDraws):\n",
        "\n",
        "    # generate a random integer to draw\n",
        "    randmarble = int(np.random.rand()*len(jar))\n",
        "\n",
        "    # store the color of that marble\n",
        "    drawColors[drawi] = jar[randmarble]\n",
        "\n",
        "# now we need to know the proportion of colors drawn\n",
        "propBlue = sum(drawColors == 1) / numDraws\n",
        "propYell = sum(drawColors == 2) / numDraws\n",
        "propOran = sum(drawColors == 3) / numDraws\n",
        "\n",
        "# plot these against the theoritical probability\n",
        "plt.bar([1, 2, 3], [propBlue, propYell, propOran], label='Proportion')\n",
        "plt.plot([0.5, 1.5], [blue/totalMarbs, blue/totalMarbs], 'b', linewidth=3, label='Probability')\n",
        "plt.plot([1.5, 2.5], [yellow/totalMarbs, yellow/totalMarbs], 'b', linewidth=3)\n",
        "plt.plot([2.5, 3.5], [orange/totalMarbs, orange/totalMarbs], 'b', linewidth=3)\n",
        "\n",
        "plt.xticks([1,2,3], labels=('Blue', 'Yellow', 'Orange'))\n",
        "plt.xlabel('Marbel color')\n",
        "plt.ylabel('Proportion/probability')\n",
        "plt.legend()\n",
        "plt.show()"
      ],
      "metadata": {
        "colab": {
          "base_uri": "https://localhost:8080/",
          "height": 279
        },
        "id": "ln_jchfyCgPo",
        "outputId": "aab5a3d2-6aa1-487d-9ec2-5aa27f38da15"
      },
      "execution_count": 10,
      "outputs": [
        {
          "output_type": "display_data",
          "data": {
            "text/plain": [
              "<Figure size 432x288 with 1 Axes>"
            ],
            "image/png": "[encoded data removed]"
          },
          "metadata": {
            "needs_background": "light"
          }
        }
      ]
    },
    {
      "cell_type": "code",
      "source": [],
      "metadata": {
        "id": "NF3E6ir3ETJN"
      },
      "execution_count": null,
      "outputs": []
    }
  ]
}
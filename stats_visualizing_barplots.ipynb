{
  "nbformat": 4,
  "nbformat_minor": 0,
  "metadata": {
    "colab": {
      "name": "stats_visualizing_barplots.ipynb",
      "provenance": [],
      "authorship_tag": "ABX9TyNp5XNt6MLphaS7pczfHsFz",
      "include_colab_link": true
    },
    "kernelspec": {
      "name": "python3",
      "display_name": "Python 3"
    },
    "language_info": {
      "name": "python"
    }
  },
  "cells": [
    {
      "cell_type": "markdown",
      "metadata": {
        "id": "view-in-github",
        "colab_type": "text"
      },
      "source": [
        "<a href=\"https://colab.research.google.com/github/mamuncseru/master_statistics_machine_learning/blob/main/stats_visualizing_barplots.ipynb\" target=\"_parent\"><img src=\"https://colab.research.google.com/assets/colab-badge.svg\" alt=\"Open In Colab\"/></a>"
      ]
    },
    {
      "cell_type": "code",
      "execution_count": 1,
      "metadata": {
        "id": "WKpZmEvFyh3B"
      },
      "outputs": [],
      "source": [
        "# import libraries\n",
        "import matplotlib.pyplot as plt\n",
        "import numpy as np\n",
        "import pandas as pd"
      ]
    },
    {
      "cell_type": "code",
      "source": [
        "## create data for the bar plot\n",
        "\n",
        "# data sizes\n",
        "m = 30 # rows\n",
        "n = 6 # columns\n",
        "\n",
        "# generate data\n",
        "data = np.zeros((m, n))\n",
        "\n",
        "for i in range(n):\n",
        "  data[:, i] = 30*np.random.randn(m) * (2*i/(n-1)-1)**2 + (i+1)**2"
      ],
      "metadata": {
        "id": "uP_9FPXS1aI0"
      },
      "execution_count": 2,
      "outputs": []
    },
    {
      "cell_type": "code",
      "source": [
        "# show the bars\n",
        "\n",
        "fig, ax = plt.subplots(1, 3, figsize=(8, 2))\n",
        "\n",
        "# naked bars\n",
        "ax[0].bar(range(n), np.mean(data, axis=0))\n",
        "ax[0].set_title('Bar Plot')\n",
        "\n",
        "# just the error bars\n",
        "ax[1].errorbar(range(n), np.mean(data, axis=0), np.std(data, axis=0, ddof=1), marker='s', linestyle='')\n",
        "ax[1].set_title('Errorbar plot')\n",
        "\n",
        "# both\n",
        "ax[2].bar(range(n), np.mean(data, axis=0))\n",
        "ax[2].errorbar(range(n), np.mean(data, axis=0), np.std(data, axis=0, ddof=1), marker='.', linestyle='', color='black')\n",
        "ax[2].set_title('Error + Bar plot')\n",
        "\n",
        "plt.show()"
      ],
      "metadata": {
        "colab": {
          "base_uri": "https://localhost:8080/",
          "height": 173
        },
        "id": "foHY9a321xqm",
        "outputId": "47039180-b2ab-4f92-c442-66bbd9d8b761"
      },
      "execution_count": 4,
      "outputs": [
        {
          "output_type": "display_data",
          "data": {
            "text/plain": [
              "<Figure size 576x144 with 3 Axes>"
            ],
            "image/png": "[encoded data removed]"
          },
          "metadata": {
            "needs_background": "light"
          }
        }
      ]
    },
    {
      "cell_type": "code",
      "source": [
        "## manually specify x-axis coordinates\n",
        "\n",
        "xcrossings = [1, 2, 4, 5, 6, 9]\n",
        "\n",
        "plt.bar(xcrossings, np.mean(data, axis=0))\n",
        "plt.errorbar(xcrossings, np.mean(data, axis=0), np.std(data, axis=0, ddof=1), marker='.', linestyle='', color='black')\n",
        "plt.title('Bar+error plot')\n",
        "plt.show()"
      ],
      "metadata": {
        "colab": {
          "base_uri": "https://localhost:8080/",
          "height": 281
        },
        "id": "_51f0oqo225E",
        "outputId": "393f55a1-44fc-4d67-aaad-c4bd3ab8262c"
      },
      "execution_count": 9,
      "outputs": [
        {
          "output_type": "display_data",
          "data": {
            "text/plain": [
              "<Figure size 432x288 with 1 Axes>"
            ],
            "image/png": "[encoded data removed]"
          },
          "metadata": {
            "needs_background": "light"
          }
        }
      ]
    },
    {
      "cell_type": "code",
      "source": [
        "## note about bars from matrices\n",
        "\n",
        "# data are groups (rows) X properly (columns)\n",
        "m = [ [2, 5, 4, 3], [1, 1, 8, 6] ]\n",
        "\n",
        "fig, ax = plt.subplots(nrows=2, ncols=2, figsize=(8, 8))\n",
        "\n",
        "# conceptualizing the data as <row> groups of <columns>\n",
        "ax[0, 0].imshow(m)\n",
        "\n",
        "# using pandas dataframe\n",
        "df = pd.DataFrame(m, columns=['prop 0', 'prop 1', 'prop 2', 'prop 3'])\n",
        "df.plot(ax=ax[1, 0], kind='bar')\n",
        "ax[1, 0].set_title('Grouping by rows')\n",
        "\n",
        "# now other orientation (property X group)\n",
        "ax[0, 1].imshow(np.array(m).T)\n",
        "df.T.plot(ax=ax[1, 1], kind='bar')\n",
        "ax[1, 1].set_title('Grouping by columns')\n",
        "\n",
        "plt.show()"
      ],
      "metadata": {
        "colab": {
          "base_uri": "https://localhost:8080/",
          "height": 509
        },
        "id": "xeXy6jUP3j_e",
        "outputId": "86e5be3d-461b-4a39-b336-14618d1fe746"
      },
      "execution_count": 11,
      "outputs": [
        {
          "output_type": "display_data",
          "data": {
            "text/plain": [
              "<Figure size 576x576 with 4 Axes>"
            ],
            "image/png": "[encoded data removed]"
          },
          "metadata": {
            "needs_background": "light"
          }
        }
      ]
    },
    {
      "cell_type": "code",
      "source": [
        ""
      ],
      "metadata": {
        "id": "YGIEnoQk5_yU"
      },
      "execution_count": null,
      "outputs": []
    }
  ]
}
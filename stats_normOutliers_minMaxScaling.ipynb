{
  "nbformat": 4,
  "nbformat_minor": 0,
  "metadata": {
    "colab": {
      "name": "stats_normOutliers_minMaxScaling.ipynb",
      "provenance": [],
      "authorship_tag": "ABX9TyMqioRjCckvptuiq29C53os",
      "include_colab_link": true
    },
    "kernelspec": {
      "name": "python3",
      "display_name": "Python 3"
    },
    "language_info": {
      "name": "python"
    }
  },
  "cells": [
    {
      "cell_type": "markdown",
      "metadata": {
        "id": "view-in-github",
        "colab_type": "text"
      },
      "source": [
        "<a href=\"https://colab.research.google.com/github/mamuncseru/master_statistics_machine_learning/blob/main/stats_normOutliers_minMaxScaling.ipynb\" target=\"_parent\"><img src=\"https://colab.research.google.com/assets/colab-badge.svg\" alt=\"Open In Colab\"/></a>"
      ]
    },
    {
      "cell_type": "code",
      "source": [
        "# import libraries\n",
        "import numpy as np\n",
        "import matplotlib.pyplot as plt"
      ],
      "metadata": {
        "id": "vYWRlRT2YWYN"
      },
      "execution_count": 2,
      "outputs": []
    },
    {
      "cell_type": "code",
      "execution_count": 3,
      "metadata": {
        "colab": {
          "base_uri": "https://localhost:8080/",
          "height": 268
        },
        "id": "k6PQNFDwW7cv",
        "outputId": "19afe643-33c2-43c1-b4ed-5904b2bb25b2"
      },
      "outputs": [
        {
          "output_type": "display_data",
          "data": {
            "text/plain": [
              "<Figure size 576x288 with 2 Axes>"
            ],
            "image/png": "[encoded data removed]"
          },
          "metadata": {
            "needs_background": "light"
          }
        }
      ],
      "source": [
        "# import libraries\n",
        "N = 42\n",
        "data = np.log(np.random.rand(N)) * 234 + 934\n",
        "\n",
        "# get min and max\n",
        "dataMin = min(data)\n",
        "dataMax = max(data)\n",
        "\n",
        "# now min-max scale\n",
        "dataS = (data-dataMin) / (dataMax - dataMin)\n",
        "\n",
        "# now plot\n",
        "fig, ax = plt.subplots(1, 2, figsize=(8, 4))\n",
        "ax[0].plot(1 + np.random.randn(N) / 20, data, 'ks')\n",
        "ax[0].set_xlim([0, 2])\n",
        "ax[0].set_xticks([])\n",
        "ax[0].set_ylabel('Original data scale')\n",
        "ax[0].set_title('Original data')\n",
        "\n",
        "ax[1].plot(1 + np.random.randn(N) / 20, dataS, 'ks')\n",
        "ax[1].set_xlim([0, 2])\n",
        "ax[1].set_xticks([])\n",
        "ax[1].set_ylabel('Unity-normed data scale')\n",
        "ax[1].set_title('Scaled data')\n",
        "\n",
        "plt.show()"
      ]
    },
    {
      "cell_type": "code",
      "source": [
        "## show that scaling doesn't affect the relative values\n",
        "\n",
        "plt.plot(data, dataS, 'ks')\n",
        "plt.xlabel('Original')\n",
        "plt.ylabel('Scaled')\n",
        "plt.show()"
      ],
      "metadata": {
        "colab": {
          "base_uri": "https://localhost:8080/",
          "height": 279
        },
        "id": "TRAYBK99YUTs",
        "outputId": "9c6e9d1a-6beb-4399-c731-d4b6a4b783e4"
      },
      "execution_count": 4,
      "outputs": [
        {
          "output_type": "display_data",
          "data": {
            "text/plain": [
              "<Figure size 432x288 with 1 Axes>"
            ],
            "image/png": "[encoded data removed]"
          },
          "metadata": {
            "needs_background": "light"
          }
        }
      ]
    },
    {
      "cell_type": "code",
      "source": [
        "## any arbitrary data range\n",
        "\n",
        "# step 1 is to [0, 1] normalize as above\n",
        "\n",
        "# step 2:\n",
        "newMin = 4\n",
        "newMax = 8.7\n",
        "\n",
        "dataSS = dataS*(newMax - newMin) + newMin\n",
        "\n",
        "# test it!\n",
        "print([min(dataSS), max(dataSS)])"
      ],
      "metadata": {
        "colab": {
          "base_uri": "https://localhost:8080/"
        },
        "id": "ul9JDgmnZCt_",
        "outputId": "642f4599-e1d0-4a49-deea-37f1384016d4"
      },
      "execution_count": 6,
      "outputs": [
        {
          "output_type": "stream",
          "name": "stdout",
          "text": [
            "[4.0, 8.7]\n"
          ]
        }
      ]
    },
    {
      "cell_type": "code",
      "source": [
        ""
      ],
      "metadata": {
        "id": "s99QfwiaZbfD"
      },
      "execution_count": null,
      "outputs": []
    }
  ]
}